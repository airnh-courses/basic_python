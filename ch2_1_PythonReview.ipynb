{
 "cells": [
  {
   "cell_type": "code",
   "execution_count": 2,
   "metadata": {},
   "outputs": [],
   "source": [
    "%matplotlib widget\n",
    "from utils import *\n",
    "from DataReader import DataReader\n",
    "np.set_printoptions(precision=2, suppress=True)\n",
    "np.random.seed(123)"
   ]
  },
  {
   "cell_type": "markdown",
   "metadata": {},
   "source": [
    "<font color='#99ff99'>\n",
    "<Center><H1>Chapter2 Python Review</h1></center>\n",
    "</font>"
   ]
  },
  {
   "cell_type": "markdown",
   "metadata": {},
   "source": [
    "<font color='#99ff99'>\n",
    "<H2>2.1 Python Basics </h2>\n",
    "<H4> - 2D Data Index\n",
    "</font>"
   ]
  },
  {
   "cell_type": "code",
   "execution_count": 3,
   "metadata": {
    "tags": []
   },
   "outputs": [
    {
     "name": "stdout",
     "output_type": "stream",
     "text": [
      "[[69.65 28.61 22.69]\n",
      " [55.13 71.95 42.31]\n",
      " [98.08 68.48 48.09]\n",
      " [39.21 34.32 72.9 ]\n",
      " [43.86  5.97 39.8 ]\n",
      " [73.8  18.25 17.55]\n",
      " [53.16 53.18 63.44]\n",
      " [84.94 72.45 61.1 ]\n",
      " [72.24 32.3  36.18]\n",
      " [22.83 29.37 63.1 ]]\n"
     ]
    }
   ],
   "source": [
    "# 2D matrix N x 3\n",
    "N = 10\n",
    "table = np.random.rand(N,3)*100\n",
    "print(table)"
   ]
  },
  {
   "cell_type": "code",
   "execution_count": 4,
   "metadata": {
    "tags": [
     "hide-input"
    ]
   },
   "outputs": [
    {
     "name": "stdout",
     "output_type": "stream",
     "text": [
      "69.64691855978616\n",
      "28.613933495037948\n",
      "[69.65 28.61 22.69]\n"
     ]
    }
   ],
   "source": [
    "# indexing\n",
    "student0_calculus = table[0, 0]\n",
    "print(student0_calculus)\n",
    "student0_physics = table[0, 1]\n",
    "print(student0_physics) \n",
    "student0_all = table[0, :]\n",
    "print(student0_all)"
   ]
  },
  {
   "cell_type": "markdown",
   "metadata": {},
   "source": [
    "<font color='#99ff99'>\n",
    "<H4> - 2D Data Index: from - to\n",
    "</font>"
   ]
  },
  {
   "cell_type": "code",
   "execution_count": 5,
   "metadata": {
    "tags": [
     "hide-input"
    ]
   },
   "outputs": [
    {
     "name": "stdout",
     "output_type": "stream",
     "text": [
      "[[69.65 28.61 22.69]\n",
      " [55.13 71.95 42.31]\n",
      " [98.08 68.48 48.09]\n",
      " [39.21 34.32 72.9 ]]\n",
      "[[69.65 28.61 22.69]\n",
      " [55.13 71.95 42.31]\n",
      " [98.08 68.48 48.09]\n",
      " [39.21 34.32 72.9 ]]\n"
     ]
    }
   ],
   "source": [
    "# indexing from to\n",
    "student_0to3 = table[0:4,:]\n",
    "print(student_0to3)\n",
    "student_0to3 = table[:4,:]\n",
    "print(student_0to3)"
   ]
  },
  {
   "cell_type": "code",
   "execution_count": 5,
   "metadata": {
    "tags": []
   },
   "outputs": [
    {
     "name": "stdout",
     "output_type": "stream",
     "text": [
      "[[84.94 72.45 61.1 ]\n",
      " [72.24 32.3  36.18]\n",
      " [22.83 29.37 63.1 ]]\n",
      "[[84.94 72.45 61.1 ]\n",
      " [72.24 32.3  36.18]\n",
      " [22.83 29.37 63.1 ]]\n"
     ]
    }
   ],
   "source": [
    "# indexing from to\n",
    "student_7to9 = table[7:10,:]\n",
    "print(student_7to9)\n",
    "student_7to9 = table[7:,:]\n",
    "print(student_7to9)"
   ]
  },
  {
   "cell_type": "markdown",
   "metadata": {},
   "source": [
    "<font color='#99ff99'>\n",
    "<H4> - 2D Data Index: negative index\n",
    "</font>"
   ]
  },
  {
   "cell_type": "code",
   "execution_count": 6,
   "metadata": {
    "tags": []
   },
   "outputs": [
    {
     "name": "stdout",
     "output_type": "stream",
     "text": [
      "[22.83 29.37 63.1 ]\n",
      "[22.83 29.37 63.1 ]\n"
     ]
    }
   ],
   "source": [
    "# negative index\n",
    "lastIndex, _ = table.shape\n",
    "student_last = table[lastIndex-1]\n",
    "print(student_last)\n",
    "\n",
    "student_last = table[-1,:]\n",
    "print(student_last)"
   ]
  },
  {
   "cell_type": "markdown",
   "metadata": {},
   "source": [
    "<font color='#99ff99'>\n",
    "<H4> - If else </h4>\n",
    "</font>"
   ]
  },
  {
   "cell_type": "code",
   "execution_count": 7,
   "metadata": {
    "tags": []
   },
   "outputs": [
    {
     "name": "stdout",
     "output_type": "stream",
     "text": [
      "38.43178003740909\n",
      "Grade: D\n"
     ]
    }
   ],
   "source": [
    "# if, else, elif\n",
    "average = np.mean(student_last)\n",
    "print(average)\n",
    "if (average >= 90):\n",
    "    print('Grade: A')\n",
    "elif (average >= 80):\n",
    "    print('Grade: B')\n",
    "elif (average >= 70):\n",
    "    print('Grade: C')\n",
    "else:\n",
    "    print('Grade: D')"
   ]
  },
  {
   "cell_type": "markdown",
   "metadata": {},
   "source": [
    "<font color='#99ff99'>\n",
    "<H4>- Function </h4>\n",
    "</font>"
   ]
  },
  {
   "cell_type": "code",
   "execution_count": 8,
   "metadata": {},
   "outputs": [],
   "source": [
    "# function\n",
    "def printGrade(average):\n",
    "    if (average >= 80):\n",
    "        print('Grade: A')\n",
    "    elif (average >= 60):\n",
    "        print('Grade: B')\n",
    "    elif (average >= 40):\n",
    "        print('Grade: C')\n",
    "    else:\n",
    "        print('Grade: D')"
   ]
  },
  {
   "cell_type": "markdown",
   "metadata": {},
   "source": [
    "<font color='#99ff99'>\n",
    "<H4>- Loops </h4>\n",
    "</font>"
   ]
  },
  {
   "cell_type": "code",
   "execution_count": 9,
   "metadata": {
    "tags": []
   },
   "outputs": [
    {
     "name": "stdout",
     "output_type": "stream",
     "text": [
      "Grade: C\n",
      "Grade: C\n",
      "Grade: B\n",
      "Grade: C\n",
      "Grade: D\n",
      "Grade: D\n",
      "Grade: C\n",
      "Grade: B\n",
      "Grade: C\n",
      "Grade: D\n"
     ]
    }
   ],
   "source": [
    "# print Nx3 matrix line by line with for loop\n",
    "for i in range(0, 10):\n",
    "    average = np.mean(table[i, :])\n",
    "    printGrade(average)"
   ]
  },
  {
   "cell_type": "code",
   "execution_count": 10,
   "metadata": {
    "tags": []
   },
   "outputs": [
    {
     "name": "stdout",
     "output_type": "stream",
     "text": [
      "Grade: C\n",
      "Grade: C\n",
      "Grade: B\n",
      "Grade: C\n",
      "Grade: D\n",
      "Grade: D\n",
      "Grade: C\n",
      "Grade: B\n",
      "Grade: C\n",
      "Grade: D\n"
     ]
    }
   ],
   "source": [
    "# print Nx3 matrix line by line with for while\n",
    "index = 0\n",
    "while index < 10:\n",
    "    average = np.mean(table[index, :])\n",
    "    printGrade(average)\n",
    "    index += 1"
   ]
  },
  {
   "cell_type": "markdown",
   "metadata": {},
   "source": [
    "<font color='#99ff99'>\n",
    "<H4>- Class </h4>\n",
    "</font>"
   ]
  },
  {
   "cell_type": "code",
   "execution_count": 11,
   "metadata": {
    "tags": []
   },
   "outputs": [
    {
     "name": "stdout",
     "output_type": "stream",
     "text": [
      "[[69.65 28.61 22.69]\n",
      " [55.13 71.95 42.31]\n",
      " [98.08 68.48 48.09]\n",
      " [39.21 34.32 72.9 ]\n",
      " [43.86  5.97 39.8 ]\n",
      " [73.8  18.25 17.55]\n",
      " [53.16 53.18 63.44]\n",
      " [84.94 72.45 61.1 ]\n",
      " [72.24 32.3  36.18]\n",
      " [22.83 29.37 63.1 ]]\n",
      "[[69.65]\n",
      " [55.13]\n",
      " [98.08]\n",
      " [39.21]\n",
      " [43.86]\n",
      " [73.8 ]\n",
      " [53.16]\n",
      " [84.94]\n",
      " [72.24]\n",
      " [22.83]]\n",
      "[[28.61]\n",
      " [71.95]\n",
      " [68.48]\n",
      " [34.32]\n",
      " [ 5.97]\n",
      " [18.25]\n",
      " [53.18]\n",
      " [72.45]\n",
      " [32.3 ]\n",
      " [29.37]]\n",
      "[[22.69]\n",
      " [42.31]\n",
      " [48.09]\n",
      " [72.9 ]\n",
      " [39.8 ]\n",
      " [17.55]\n",
      " [63.44]\n",
      " [61.1 ]\n",
      " [36.18]\n",
      " [63.1 ]]\n"
     ]
    }
   ],
   "source": [
    "# class\n",
    "class Scores():\n",
    "    def __init__(self, data):\n",
    "        self.calculus = table[:, 0:1]\n",
    "        self.physics = table[:, 1:2]\n",
    "        self.chemistry = table[:, 2:3]\n",
    "s = Scores(table)\n",
    "print(table)\n",
    "print(s.calculus)\n",
    "print(s.physics)\n",
    "print(s.chemistry)\n"
   ]
  }
 ],
 "metadata": {
  "kernelspec": {
   "display_name": "Python 3 (ipykernel)",
   "language": "python",
   "name": "python3"
  },
  "language_info": {
   "codemirror_mode": {
    "name": "ipython",
    "version": 3
   },
   "file_extension": ".py",
   "mimetype": "text/x-python",
   "name": "python",
   "nbconvert_exporter": "python",
   "pygments_lexer": "ipython3",
   "version": "3.9.7"
  }
 },
 "nbformat": 4,
 "nbformat_minor": 4
}
